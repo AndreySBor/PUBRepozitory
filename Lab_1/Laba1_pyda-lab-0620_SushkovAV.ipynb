{
 "cells": [
  {
   "cell_type": "markdown",
   "metadata": {},
   "source": [
    "## Лабораторная работа по курсу «Python для анализа данных»"
   ]
  },
  {
   "cell_type": "markdown",
   "metadata": {},
   "source": [
    "### При выполнении работы допускается использование любых внешних модулей и пакетов."
   ]
  },
  {
   "cell_type": "markdown",
   "metadata": {},
   "source": [
    "#### Задача 1"
   ]
  },
  {
   "cell_type": "markdown",
   "metadata": {},
   "source": [
    "Дана строка:"
   ]
  },
  {
   "cell_type": "code",
   "execution_count": 98,
   "metadata": {},
   "outputs": [],
   "source": [
    "string_01 = \"History is always written by the winners. When two cultures clash, the loser is obliterated, and the winner writes the history books - books which glorify their own cause and disparage the conquered foe. As Napoleon once said, 'What is history, but a fable agreed upon?'\""
   ]
  },
  {
   "cell_type": "markdown",
   "metadata": {},
   "source": [
    "1. Посчитайте, сколько в строке символов, исключая пробелы:"
   ]
  },
  {
   "cell_type": "code",
   "execution_count": 36,
   "metadata": {},
   "outputs": [
    {
     "name": "stdout",
     "output_type": "stream",
     "text": [
      "History is always written by the winners. When two cultures clash, the loser is obliterated, and the winner writes the history books - books which glorify their own cause and disparage the conquered foe. As Napoleon once said, \"What is history, but a fable agreed upon?\"\n",
      "Количество символов в исходном тексте, исключая пробелы:  225  шт.\n"
     ]
    }
   ],
   "source": [
    "import re\n",
    "string_01 = 'History is always written by the winners. When two cultures clash, the loser is obliterated, and the winner writes the history books - books which glorify their own cause and disparage the conquered foe. As Napoleon once said, \\\"What is history, but a fable agreed upon?\\\"'\n",
    "\n",
    "print(string_01)\n",
    "text = re.sub(r'\\s+', '', string_01)\n",
    "\n",
    "print('Количество символов в исходном тексте, исключая пробелы: ', len(text), ' шт.')"
   ]
  },
  {
   "cell_type": "markdown",
   "metadata": {},
   "source": [
    "2. Посчитайте, сколько в строке слов."
   ]
  },
  {
   "cell_type": "code",
   "execution_count": 37,
   "metadata": {},
   "outputs": [
    {
     "name": "stdout",
     "output_type": "stream",
     "text": [
      "History is always written by the winners. When two cultures clash, the loser is obliterated, and the winner writes the history books - books which glorify their own cause and disparage the conquered foe. As Napoleon once said, 'What is history, but a fable agreed upon?'\n",
      "Количество слов в исходном тексте:  46  шт.\n"
     ]
    }
   ],
   "source": [
    "import re\n",
    "string_01 = \"History is always written by the winners. When two cultures clash, the loser is obliterated, and the winner writes the history books - books which glorify their own cause and disparage the conquered foe. As Napoleon once said, 'What is history, but a fable agreed upon?'\"\n",
    "\n",
    "print(string_01)\n",
    "print('Количество слов в исходном тексте: ', len(re.findall(r'\\S+', string_01)), ' шт.')"
   ]
  },
  {
   "cell_type": "markdown",
   "metadata": {},
   "source": [
    "3. Напишите функцию, которая будет принимать в качестве аргумента букву и выводить все слова из строки, начинающиеся на эту букву (например, “w”)."
   ]
  },
  {
   "cell_type": "code",
   "execution_count": 81,
   "metadata": {},
   "outputs": [
    {
     "name": "stdout",
     "output_type": "stream",
     "text": [
      "History is always written by the winners. When two cultures clash, the loser is obliterated, and the winner writes the history books - books which glorify their own cause and disparage the conquered foe. As Napoleon once said, 'What is history, but a fable agreed upon?'\n",
      "Введите одну латинскую букву, чтобы найти слова, начинающиеся на неё: wwwwwwwww\n",
      "w\n",
      "['written', 'winners.', 'winner', 'writes', 'which']\n"
     ]
    }
   ],
   "source": [
    "import re\n",
    "string_01 = \"History is always written by the winners. When two cultures clash, the loser is obliterated, and the winner writes the history books - books which glorify their own cause and disparage the conquered foe. As Napoleon once said, 'What is history, but a fable agreed upon?'\"\n",
    "\n",
    "print(string_01)\n",
    "letter = input('Введите одну латинскую букву, чтобы найти слова, начинающиеся на неё: ')\n",
    "\n",
    "true_letter = re.sub(r'^(\\S)+', r'\\1', letter)\n",
    "# true_letter = re.findall(r'[a-zA-Z]{1}', letter)         # Не работает в части выведения только одного символа\n",
    "print(true_letter)\n",
    "\n",
    "# print(re.findall(r'(\\b[w]\\S+)+', string_01))             # Работает, но с подстановкой конкретной буквы\n",
    "print(re.findall(r'(\\b[' + true_letter + ']\\S+)+', string_01))"
   ]
  },
  {
   "cell_type": "markdown",
   "metadata": {},
   "source": [
    "#### Задача 2"
   ]
  },
  {
   "cell_type": "markdown",
   "metadata": {},
   "source": [
    "Напишите код, который будет генерировать случайную последовательность из 6 цифр, одна из которых должна быть 3. Позиция цифры 3 должна\n",
    "определяться случайным образом. Результат должен быть строкой. Например: \"456309\" или \"330127\"."
   ]
  },
  {
   "cell_type": "code",
   "execution_count": 26,
   "metadata": {},
   "outputs": [
    {
     "name": "stdout",
     "output_type": "stream",
     "text": [
      "['6', '7', '8', '5', '5', '8']\n",
      "Position change:  1\n",
      "Сгенерирована случайная последовательность с обязательным наличием тройки:  378558\n"
     ]
    }
   ],
   "source": [
    "import random\n",
    "i = 0                                              # Присвоение и обнуление переменной для счёта шага цикла генерации\n",
    "res = []                                           # Объявление и обнуление списка для сохранения сгенерир. последовательности\n",
    "\n",
    "while i < 6:                                       # Цикл для генерации шести случайных цифр\n",
    "    res += str(random.randint(0, 9))               # Запись в список шести цифр как строк, из диапазона 0..9 включительно\n",
    "    i += 1                                         # Сдвижка цикла к следующему шагу\n",
    "\n",
    "# print(res)                                       # Контрольный вывод списка полученных цифр\n",
    "    \n",
    "try:                                               # Обход ошибки при проверке наличия среди значений \"3\"\n",
    "    pos = res.index('3')                           # Индексация \"3\" в полученном списке\n",
    "    result = ''.join(res)                          # При удаче: объединение полученных цифр в единую последовательность (список)\n",
    "    print('3 presents on position: ', pos + 1)     # Контрольный вывод: где расположена первая \"3\", с учётом сдвига +1\n",
    "except:                                            # Вариант при отсутствии \"3\" в сгенерированной последовательности\n",
    "    pos = int(random.randint(0, 5))                # Определение случайной позиции в послед-ти для замены на \"3\"\n",
    "    res.remove(res[pos])                           # Удаление имеющейся цифры из послдователности\n",
    "    res.insert(pos, '3')                           # Вставка тройки на вакантную позицию\n",
    "    result = ''.join(res)                          # Объединение цифр в единую последовательность (число)\n",
    "    print('Position change: ', pos + 1)            # Контрольный вывод изменённой позиции в последовательности\n",
    "    \n",
    "print('Сгенерирована случайная последовательность с обязательным наличием тройки: ', result)"
   ]
  },
  {
   "cell_type": "markdown",
   "metadata": {},
   "source": [
    "#### Задача 3"
   ]
  },
  {
   "cell_type": "markdown",
   "metadata": {},
   "source": [
    "Дан список:"
   ]
  },
  {
   "cell_type": "code",
   "execution_count": 56,
   "metadata": {},
   "outputs": [],
   "source": [
    "list_01 = [1, 1, 2, 3, 5, 8, 13, 21, 34, 55, 89, 144, 233, 377, 610, 14, 46, 273, 22, 99, 15, 1000]"
   ]
  },
  {
   "cell_type": "markdown",
   "metadata": {},
   "source": [
    "Напишите алгоритм, который выводит число, равное сумме элементов списка, которые больше 10, но меньше 100, и которые больше 200, но меньше 500."
   ]
  },
  {
   "cell_type": "code",
   "execution_count": 29,
   "metadata": {},
   "outputs": [
    {
     "name": "stdout",
     "output_type": "stream",
     "text": [
      "Не суммирую число:  1\n",
      "Не суммирую число:  1\n",
      "Не суммирую число:  2\n",
      "Не суммирую число:  3\n",
      "Не суммирую число:  5\n",
      "Не суммирую число:  8\n",
      "Суммирую число:  13\n",
      "Суммирую число:  21\n",
      "Суммирую число:  34\n",
      "Суммирую число:  55\n",
      "Суммирую число:  89\n",
      "Не суммирую число:  144\n",
      "Суммирую число:  233\n",
      "Суммирую число:  377\n",
      "Не суммирую число:  610\n",
      "Суммирую число:  14\n",
      "Суммирую число:  46\n",
      "Суммирую число:  273\n",
      "Суммирую число:  22\n",
      "Суммирую число:  99\n",
      "Суммирую число:  15\n",
      "Не суммирую число:  1000\n",
      "Result summ =  1291\n"
     ]
    }
   ],
   "source": [
    "list_01 = [1, 1, 2, 3, 5, 8, 13, 21, 34, 55, 89, 144, 233, 377, 610, 14, 46, 273, 22, 99, 15, 1000]\n",
    "\n",
    "result = 0\n",
    "\n",
    "for el in list_01:\n",
    "    if 10 < el < 100 or 200 < el < 500:\n",
    "        result += el\n",
    "        print('Суммирую число: ', el)\n",
    "    else:\n",
    "        print('Не суммирую число: ', el)\n",
    "        pass\n",
    "\n",
    "print('Result summ = ', result)"
   ]
  },
  {
   "cell_type": "markdown",
   "metadata": {},
   "source": [
    "#### Задача 4"
   ]
  },
  {
   "cell_type": "markdown",
   "metadata": {},
   "source": [
    "Данные студентов представлены в виде списка списков:"
   ]
  },
  {
   "cell_type": "code",
   "execution_count": 126,
   "metadata": {},
   "outputs": [],
   "source": [
    "students = [\n",
    "[\"0001\", \"Антонов\", \"Антон\", \"Игоревич\", \"20.08.2009\",\"БСТ161\"],\n",
    "[\"1102\", \"Богов\", \"Артем\", \"Игоревич\", \"25.01.2010\",\"БСТ162\"],\n",
    "[\"0333\", \"Глаголева\", \"Анастасия\", \"Николаевна\", \"11.07.2009\", \"БСТ163\"],\n",
    "[\"4004\", \"Степанова\", \"Наталья\", \"Александровна\", \"13.02.2008\", \"БСТ161\"],\n",
    "[\"0045\", \"Боков\", \"Игорь\", \"Харитонович\", \"02.06.2009\", \"БСТ161\"],\n",
    "[\"0096\", \"Васильков\", \"Валентин\", \"Сергеевич\", \"20.03.2009\", \"БСТ164\"],\n",
    "[\"0607\", \"Сиропова\", \"Виолетта\", \"Эдуардовна\", \"28.05.2010\", \"БСТ162\"]\n",
    "    ]"
   ]
  },
  {
   "cell_type": "markdown",
   "metadata": {},
   "source": [
    "1. Преобразуйте данные таким образом, чтобы они были представлены в виде словаря, в котором ключами являются номера студентов, а значениями — список из других данных о студентах."
   ]
  },
  {
   "cell_type": "code",
   "execution_count": 32,
   "metadata": {},
   "outputs": [
    {
     "name": "stdout",
     "output_type": "stream",
     "text": [
      "{'0001': ['Антонов', 'Антон', 'Игоревич', '20.08.2009', 'БСТ161'], '1102': ['Богов', 'Артем', 'Игоревич', '25.01.2010', 'БСТ162'], '0333': ['Глаголева', 'Анастасия', 'Николаевна', '11.07.2009', 'БСТ163'], '4004': ['Степанова', 'Наталья', 'Александровна', '13.02.2008', 'БСТ161'], '0045': ['Боков', 'Игорь', 'Харитонович', '02.06.2009', 'БСТ161'], '0096': ['Васильков', 'Валентин', 'Сергеевич', '20.03.2009', 'БСТ164'], '0607': ['Сиропова', 'Виолетта', 'Эдуардовна', '28.05.2010', 'БСТ162']}\n"
     ]
    }
   ],
   "source": [
    "students = [\n",
    "[\"0001\", \"Антонов\", \"Антон\", \"Игоревич\", \"20.08.2009\",\"БСТ161\"],\n",
    "[\"1102\", \"Богов\", \"Артем\", \"Игоревич\", \"25.01.2010\",\"БСТ162\"],\n",
    "[\"0333\", \"Глаголева\", \"Анастасия\", \"Николаевна\", \"11.07.2009\", \"БСТ163\"],\n",
    "[\"4004\", \"Степанова\", \"Наталья\", \"Александровна\", \"13.02.2008\", \"БСТ161\"],\n",
    "[\"0045\", \"Боков\", \"Игорь\", \"Харитонович\", \"02.06.2009\", \"БСТ161\"],\n",
    "[\"0096\", \"Васильков\", \"Валентин\", \"Сергеевич\", \"20.03.2009\", \"БСТ164\"],\n",
    "[\"0607\", \"Сиропова\", \"Виолетта\", \"Эдуардовна\", \"28.05.2010\", \"БСТ162\"]\n",
    "    ]\n",
    "\n",
    "stud_dict = {}\n",
    "\n",
    "for el in students:\n",
    "    stud_dict[el[0]] = el[1:]\n",
    "\n",
    "print(stud_dict)"
   ]
  },
  {
   "cell_type": "markdown",
   "metadata": {},
   "source": [
    "2. Напишите функцию, которая принимает в качестве аргумента номер студента и новый номер группы и позволяет изменить номер группы этого студента на новый внутри созданного словаря."
   ]
  },
  {
   "cell_type": "code",
   "execution_count": 36,
   "metadata": {},
   "outputs": [
    {
     "name": "stdout",
     "output_type": "stream",
     "text": [
      "\n",
      "Список номеров студентов:  dict_keys(['0001', '1102', '0333', '4004', '0045', '0096', '0607'])\n",
      "Выберите студента для смены группы:0607\n",
      "Введите новый номер группы, например 126: 333\n",
      "Изменена группа студента:  ['Сиропова', 'Виолетта', 'Эдуардовна', '28.05.2010', 'БСТ333']\n",
      "\n",
      "{'0001': ['Антонов', 'Антон', 'Игоревич', '20.08.2009', 'БСТ161'], '1102': ['Богов', 'Артем', 'Игоревич', '25.01.2010', 'БСТ162'], '0333': ['Глаголева', 'Анастасия', 'Николаевна', '11.07.2009', 'БСТ163'], '4004': ['Степанова', 'Наталья', 'Александровна', '13.02.2008', 'БСТ161'], '0045': ['Боков', 'Игорь', 'Харитонович', '02.06.2009', 'БСТ161'], '0096': ['Васильков', 'Валентин', 'Сергеевич', '20.03.2009', 'БСТ164'], '0607': ['Сиропова', 'Виолетта', 'Эдуардовна', '28.05.2010', 'БСТ333']}\n"
     ]
    }
   ],
   "source": [
    "students = [\n",
    "[\"0001\", \"Антонов\", \"Антон\", \"Игоревич\", \"20.08.2009\",\"БСТ161\"],\n",
    "[\"1102\", \"Богов\", \"Артем\", \"Игоревич\", \"25.01.2010\",\"БСТ162\"],\n",
    "[\"0333\", \"Глаголева\", \"Анастасия\", \"Николаевна\", \"11.07.2009\", \"БСТ163\"],\n",
    "[\"4004\", \"Степанова\", \"Наталья\", \"Александровна\", \"13.02.2008\", \"БСТ161\"],\n",
    "[\"0045\", \"Боков\", \"Игорь\", \"Харитонович\", \"02.06.2009\", \"БСТ161\"],\n",
    "[\"0096\", \"Васильков\", \"Валентин\", \"Сергеевич\", \"20.03.2009\", \"БСТ164\"],\n",
    "[\"0607\", \"Сиропова\", \"Виолетта\", \"Эдуардовна\", \"28.05.2010\", \"БСТ162\"]\n",
    "    ]\n",
    "\n",
    "stud_dict = {}\n",
    "\n",
    "for el in students:\n",
    "    stud_dict[el[0]] = el[1:]\n",
    "\n",
    "def change_group(stud_key):\n",
    "    new_number_group_input = input('Введите новый номер группы, например 126: ')\n",
    "    new_number_group = 'БСТ' + new_number_group_input\n",
    "    new_number_group = ''.join(new_number_group)\n",
    "#     print(new_number_group)\n",
    "    \n",
    "    pip = stud_dict[stud_key]\n",
    "    pip[-1] = new_number_group\n",
    "#     print(pip)\n",
    "    \n",
    "    stud_dict[stud_key] = pip\n",
    "    print('Изменена группа студента: ', stud_dict[stud_key])\n",
    "\n",
    "print()\n",
    "print('Список номеров студентов: ', stud_dict.keys())\n",
    "stud_key = input('Выберите студента для смены группы:')\n",
    "change_group(stud_key)\n",
    "\n",
    "print()\n",
    "print(stud_dict)"
   ]
  },
  {
   "cell_type": "markdown",
   "metadata": {},
   "source": [
    "3. Напишите функцию, которая принимает номер группы и выводит список (фамилии, имена, отчества) всех студентов этой группы. Необходимо обращаться к словарю."
   ]
  },
  {
   "cell_type": "code",
   "execution_count": 49,
   "metadata": {},
   "outputs": [
    {
     "name": "stdout",
     "output_type": "stream",
     "text": [
      "{'0001': ['Антонов', 'Антон', 'Игоревич', '20.08.2009', 'БСТ161'], '1102': ['Богов', 'Артем', 'Игоревич', '25.01.2010', 'БСТ162'], '0333': ['Глаголева', 'Анастасия', 'Николаевна', '11.07.2009', 'БСТ163'], '4004': ['Степанова', 'Наталья', 'Александровна', '13.02.2008', 'БСТ161'], '0045': ['Боков', 'Игорь', 'Харитонович', '02.06.2009', 'БСТ161'], '0096': ['Васильков', 'Валентин', 'Сергеевич', '20.03.2009', 'БСТ164'], '0607': ['Сиропова', 'Виолетта', 'Эдуардовна', '28.05.2010', 'БСТ162']}\n",
      "\n",
      "Введите новый номер группы из списка без букв, например 161: 161\n",
      "\n",
      "Составляем список группы БСТ161 :\n",
      "=================================\n",
      "Антонов Антон Игоревич\n",
      "Степанова Наталья Александровна\n",
      "Боков Игорь Харитонович\n",
      "============Complete=============\n"
     ]
    }
   ],
   "source": [
    "students = [\n",
    "[\"0001\", \"Антонов\", \"Антон\", \"Игоревич\", \"20.08.2009\",\"БСТ161\"],\n",
    "[\"1102\", \"Богов\", \"Артем\", \"Игоревич\", \"25.01.2010\",\"БСТ162\"],\n",
    "[\"0333\", \"Глаголева\", \"Анастасия\", \"Николаевна\", \"11.07.2009\", \"БСТ163\"],\n",
    "[\"4004\", \"Степанова\", \"Наталья\", \"Александровна\", \"13.02.2008\", \"БСТ161\"],\n",
    "[\"0045\", \"Боков\", \"Игорь\", \"Харитонович\", \"02.06.2009\", \"БСТ161\"],\n",
    "[\"0096\", \"Васильков\", \"Валентин\", \"Сергеевич\", \"20.03.2009\", \"БСТ164\"],\n",
    "[\"0607\", \"Сиропова\", \"Виолетта\", \"Эдуардовна\", \"28.05.2010\", \"БСТ162\"]\n",
    "    ]\n",
    "\n",
    "stud_dict = {}\n",
    "\n",
    "for el in students:\n",
    "    stud_dict[el[0]] = el[1:]\n",
    "\n",
    "def students_in_group(group_number):\n",
    "    number_group = 'БСТ' + group_number\n",
    "    number_group = ''.join(number_group)\n",
    "    print()\n",
    "    print('Составляем список группы', number_group,':')\n",
    "    print('=================================')\n",
    "    \n",
    "    for see_stud in stud_dict:\n",
    "        if number_group in stud_dict[see_stud]:\n",
    "            el = stud_dict[see_stud]\n",
    "            print(el[0], el[1], el[2])\n",
    "        else:\n",
    "            pass\n",
    "    print('============Complete=============')\n",
    "\n",
    "print(stud_dict)\n",
    "print()\n",
    "group_number_input = input('Введите новый номер группы из списка без букв, например 161: ')\n",
    "students_in_group(group_number_input)"
   ]
  },
  {
   "cell_type": "markdown",
   "metadata": {},
   "source": [
    "#### Задача 5"
   ]
  },
  {
   "cell_type": "markdown",
   "metadata": {},
   "source": [
    "Дана матрица:"
   ]
  },
  {
   "cell_type": "code",
   "execution_count": 139,
   "metadata": {},
   "outputs": [],
   "source": [
    "matrix = [ \n",
    "    [0,1,2,4,8], \n",
    "    [6,2,2,1,9], \n",
    "    [3,3,3,3,3], \n",
    "    [4,6,7,1,2], \n",
    "    [5,7,3,4,0] \n",
    "]"
   ]
  },
  {
   "cell_type": "markdown",
   "metadata": {},
   "source": [
    "1. Выведите результат сложения всех элементов матрицы."
   ]
  },
  {
   "cell_type": "code",
   "execution_count": 51,
   "metadata": {},
   "outputs": [
    {
     "name": "stdout",
     "output_type": "stream",
     "text": [
      "89\n"
     ]
    }
   ],
   "source": [
    "matrix = [ \n",
    "    [0,1,2,4,8], \n",
    "    [6,2,2,1,9], \n",
    "    [3,3,3,3,3], \n",
    "    [4,6,7,1,2], \n",
    "    [5,7,3,4,0] \n",
    "]\n",
    "results = 0\n",
    "\n",
    "for el_str in matrix:\n",
    "    for el in el_str:\n",
    "        results += el\n",
    "\n",
    "print(results)"
   ]
  },
  {
   "cell_type": "markdown",
   "metadata": {},
   "source": [
    "2. Напишите алгоритм вычисления максимума из сумм элементов каждого столбца."
   ]
  },
  {
   "cell_type": "code",
   "execution_count": 78,
   "metadata": {},
   "outputs": [
    {
     "name": "stdout",
     "output_type": "stream",
     "text": [
      "Результат суммирования столбцов исходной матрицы:  [18, 19, 17, 13, 22]\n",
      "Максимальный результат:  22\n"
     ]
    }
   ],
   "source": [
    "matrix = [ \n",
    "    [0,1,2,4,8], \n",
    "    [6,2,2,1,9], \n",
    "    [3,3,3,3,3], \n",
    "    [4,6,7,1,2], \n",
    "    [5,7,3,4,0] \n",
    "]\n",
    "result = []\n",
    "i = 0\n",
    "\n",
    "col_count = len(matrix[0])\n",
    "str_count = len(matrix)\n",
    "# print('col = ', col_count, 'str = ', str_count)\n",
    "\n",
    "while i < col_count:\n",
    "    ii = 0\n",
    "    while ii < str_count:\n",
    "        try:\n",
    "            result[i] = result[i] + matrix[ii][i]\n",
    "        except:\n",
    "            result.append(matrix[ii][i])\n",
    "        ii += 1   \n",
    "    i += 1\n",
    "\n",
    "print('Результат суммирования столбцов исходной матрицы: ', result)\n",
    "print('Максимальный результат: ', max(result))"
   ]
  }
 ],
 "metadata": {
  "kernelspec": {
   "display_name": "Python 3",
   "language": "python",
   "name": "python3"
  },
  "language_info": {
   "codemirror_mode": {
    "name": "ipython",
    "version": 3
   },
   "file_extension": ".py",
   "mimetype": "text/x-python",
   "name": "python",
   "nbconvert_exporter": "python",
   "pygments_lexer": "ipython3",
   "version": "3.8.8"
  }
 },
 "nbformat": 4,
 "nbformat_minor": 2
}
