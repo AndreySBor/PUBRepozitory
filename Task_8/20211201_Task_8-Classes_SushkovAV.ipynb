{
 "cells": [
  {
   "cell_type": "markdown",
   "id": "7384cddf",
   "metadata": {},
   "source": [
    "# Домашнее задание к лекции «Понятие класса»"
   ]
  },
  {
   "cell_type": "markdown",
   "id": "40b98bd9",
   "metadata": {},
   "source": [
    "### Задание 1\n",
    "Напишите функцию, которая возвращает название валюты (поле ‘Name’) с максимальным значением курса с помощью сервиса www.cbr-xml-daily.ru...ly_json.js"
   ]
  },
  {
   "cell_type": "code",
   "execution_count": 48,
   "id": "dab5d0b1",
   "metadata": {},
   "outputs": [
    {
     "name": "stdout",
     "output_type": "stream",
     "text": [
      "Max-value currency now is:  Фунт стерлингов Соединенного королевства  with value = 98.3344  rub\n",
      "==================================\n",
      "Max-value currency today is:  Фунт стерлингов Соединенного королевства  with value = 98.3344  rub\n",
      "And currency /СДР (специальные права заимствования)/ was not in rang\n",
      "Process finished\n"
     ]
    }
   ],
   "source": [
    "import requests\n",
    "\n",
    "class FindCurrent:\n",
    "    def __init__(self, format_='value'):\n",
    "        self.format_ = format_\n",
    "        self.name = 'Name'\n",
    "        self.value = 'Value'\n",
    "    \n",
    "    def get_current(self):\n",
    "        self.db = requests.get('https://www.cbr-xml-daily.ru/daily_json.js')\n",
    "        return self.db.json()\n",
    "    \n",
    "    def snow_name(self):\n",
    "        return self.name\n",
    "\n",
    "all_base = FindCurrent(format_='full')                            # Присвоение переменной для использования класса\n",
    "db = all_base.get_current()                                       # Выгрузка данных с сайта через класс\n",
    "\n",
    "val_base = dict(db['Valute'])                                     # Отделение сутевого содержимого из общей выгруженной инф-ции\n",
    "# print(val_base)                                                 # Контрольный вывод формата содержимого\n",
    "\n",
    "result_name = ''                                                  # Объявление и обнуление переменной для результата \"Название\"\n",
    "result_value = 0.0                                                # Объявление и обнуление переменной для результата \"Курс\"\n",
    "\n",
    "for curr in val_base:                                             # Цикл обработки каждой из выгруженных валют (подряд)\n",
    "    line = {}                                                     # Обнуление рабочего словаря для данных по проверяемой валюте\n",
    "    line = val_base[curr]                                         # Запись данных для конкретной валюты для анализа\n",
    "#     print(line)                                                 # Контрольный вывод анализируемой строки с данными валюты\n",
    "    \n",
    "    if result_name == '':                                         # Проверка для выявления 1го шага цикла\n",
    "        result_name = line['Name']                                # Запись наименования валюты\n",
    "        result_value = line['Value']                              # Запись значения курса валюты\n",
    "    elif line['Name'] == 'СДР (специальные права заимствования)': # Выключение из рейтинга неизвестной валюты\n",
    "        pass                                                      # Пропуск действия\n",
    "    elif result_value <= (line['Value'] / line['Nominal']):       # Проверка на превышения найденного ранее МАХ значения\n",
    "        result_name = line['Name']\n",
    "        result_value = (line['Value'] / line['Nominal'])          # С пересчётом (приведением) цены к единице номинала\n",
    "        print('Max-value currency now is: ', result_name, ' with value =', result_value, ' rub') # Контрольный вывод рез-та\n",
    "    else:\n",
    "        pass\n",
    "\n",
    "print('==================================')\n",
    "print('Max-value currency today is: ', result_name, ' with value =', result_value, ' rub')\n",
    "print('And currency /СДР (специальные права заимствования)/ was not in rang')\n",
    "print('Process finished')"
   ]
  },
  {
   "cell_type": "markdown",
   "id": "036d920d",
   "metadata": {},
   "source": [
    "## Задание 2\n",
    "Добавьте в класс Rate параметр diff (со значениями True или False), который в случае значения True в методах курсов валют (eur, usd итд) будет возвращать не курс валюты, а изменение по сравнению в прошлым значением. Считайте, self.diff будет принимать значение True только при возврате значения курса. При отображении всей информации о валюте он не используется."
   ]
  },
  {
   "cell_type": "code",
   "execution_count": 71,
   "id": "8f0b94f7",
   "metadata": {},
   "outputs": [
    {
     "data": {
      "text/plain": [
       "<bound method Rate.eur of <__main__.Rate object at 0x000001AF33F3D940>>"
      ]
     },
     "execution_count": 71,
     "metadata": {},
     "output_type": "execute_result"
    }
   ],
   "source": [
    "import requests\n",
    "\n",
    "class Rate:\n",
    "    def __init__(self, format_ = 'value', diff='False'):\n",
    "        self.format = format_\n",
    "        self.diff = diff\n",
    "        \n",
    "        if format_ == 'value':\n",
    "            self.diff = 'True'\n",
    "        else:\n",
    "            self.diff = 'False'\n",
    "    \n",
    "    def exchange_rates(self):\n",
    "        \"\"\"\n",
    "        Возвращает ответ сервиса с информацией о валютах в виде:\n",
    "        \n",
    "        {\n",
    "            'AMD': {\n",
    "                'CharCode': 'AMD',\n",
    "                'ID': 'R01060',\n",
    "                'Name': 'Армянских драмов',\n",
    "                'Nominal': 100,\n",
    "                'NumCode': '051',\n",
    "                'Previous': 14.103,\n",
    "                'Value': 14.0879\n",
    "                },\n",
    "            ...\n",
    "        }\n",
    "        \"\"\"\n",
    "        r = requests.get('https://www.cbr-xml-daily.ru/daily_json.js')\n",
    "        return r.json()['Valute']\n",
    "    \n",
    "    def make_format(self, currency):\n",
    "        \"\"\"\n",
    "        Возвращает информацию о валюте currency в двух вариантах:\n",
    "        - полная информация о валюте при self.format_ = 'full':\n",
    "        Rate('full').make_format('EUR')\n",
    "        {\n",
    "            'CharCode': 'EUR',\n",
    "            'ID': 'R01239',\n",
    "            'Name': 'Евро',\n",
    "            'Nominal': 1,\n",
    "            'NumCode': '978',\n",
    "            'Previous': 79.6765,\n",
    "            'Value': 79.4966\n",
    "        }\n",
    "        \n",
    "        Rate('value').make_format('EUR')\n",
    "        79.4966\n",
    "        \"\"\"\n",
    "        response = self.exchange_rates()\n",
    "        \n",
    "        if currency in response:\n",
    "            if self.format_ == 'full':\n",
    "                return response[currency]\n",
    "            \n",
    "            if self.format_ == 'value':\n",
    "                return response[currency]['Value']\n",
    "        \n",
    "        return 'Error'\n",
    "    \n",
    "    def eur(self, diff):\n",
    "        \"\"\"Возвращает курс евро на сегодня в формате self.format\"\"\"\n",
    "        return self.make_format('EUR')\n",
    "    \n",
    "    def usd(self, diff):\n",
    "        \"\"\"Возвращает курс доллара на сегодня в формате self.format\"\"\"\n",
    "        return self.make_format('USD')\n",
    "\n",
    "    def AZN(self, diff):\n",
    "        \"\"\"Возвращает курс азербайджанского маната на сегодня в формате self.format\"\"\"\n",
    "        return self.make_format('AZN')\n",
    "\n",
    "r = Rate(format_='full')\n",
    "r.eur"
   ]
  },
  {
   "cell_type": "code",
   "execution_count": null,
   "id": "50ca61fb",
   "metadata": {},
   "outputs": [],
   "source": [
    "from libs.exchange import Rate\n",
    "\n",
    "class MyRate(Rate):\n",
    "    def __init__(self):\n",
    "        super().__init__(format_='full')\n",
    "        self.diff = 'True'\n",
    "\n",
    "# mr = MyRate()"
   ]
  },
  {
   "cell_type": "markdown",
   "id": "4f221670",
   "metadata": {},
   "source": [
    " # Задание 3\n",
    "Напишите класс Designer, который учитывает количество международных премий. Подсказки в коде занятия в разделе “Домашнее задание задача 3”.\n",
    "\n",
    "## Комментарий по классу Designer такой:\n",
    "Напишите класс Designer, который учитывает количество международных премий для дизайнеров (из презентации: “Повышение на 1 грейд за каждые 7 баллов. Получение международной премии – это +2 балла”). Считайте, что при выходе на работу сотрудник уже имеет две премии и их количество не меняется со стажем (конечно если хотите это можно вручную менять).\n",
    "\n",
    "Класс Designer пишется по аналогии с классом Developer из материалов занятия. Комментарий про его условия Вика написала выше: “Повышение на 1 грейд за каждые 7 баллов. Получение международной премии – это +2 балла”"
   ]
  },
  {
   "cell_type": "code",
   "execution_count": 11,
   "id": "fd77d14b",
   "metadata": {},
   "outputs": [
    {
     "name": "stdout",
     "output_type": "stream",
     "text": [
      "Сотрудник Энтони, грейд 1\n",
      "Получена международная премия. Баллов грейдирования:  6\n",
      "Сотрудник Энтони, грейд 1\n",
      "Не достаточно баллов для повышения грейда дизайнера:  6\n",
      "Получена международная премия. Баллов грейдирования:  8\n",
      "Сотрудник Энтони, грейд 1\n",
      "Грейд дизайнера  Энтони  повышен. Новый грейд:  2\n",
      "Остаток баллов грейда:  1\n",
      "Сотрудник Энтони, грейд 2\n"
     ]
    }
   ],
   "source": [
    "class Designer:\n",
    "    def __init__(self, name, grade, score):\n",
    "        self.name = name\n",
    "        self.grade = grade\n",
    "        self.score = score\n",
    "    \n",
    "    def up(self):\n",
    "        if self.score >= 7:\n",
    "            self.grade += 1\n",
    "            self.score = self.score - (7 * (self.score % 7))\n",
    "            print('Грейд дизайнера ', self.name, ' повышен. Новый грейд: ', self.grade)\n",
    "            print('Остаток баллов грейда: ', self.score)\n",
    "        else:\n",
    "            print('Не достаточно баллов для повышения грейда дизайнера: ', self.score)\n",
    "            \n",
    "    def bonus(self):\n",
    "        self.score += 2\n",
    "        print('Получена международная премия. Баллов грейдирования: ', self.score)\n",
    "    \n",
    "    def print_(self):\n",
    "        print('Сотрудник {}, грейд {}'.format(self.name, self.grade, self.score))\n",
    "\n",
    "des1 = Designer(name='Энтони', grade=1, score=4)\n",
    "des1.print_()\n",
    "des1.bonus()\n",
    "des1.print_()\n",
    "des1.up()\n",
    "des1.bonus()\n",
    "des1.print_()\n",
    "des1.up()\n",
    "des1.print_()"
   ]
  },
  {
   "cell_type": "code",
   "execution_count": null,
   "id": "9bc9dbaa",
   "metadata": {},
   "outputs": [],
   "source": []
  }
 ],
 "metadata": {
  "kernelspec": {
   "display_name": "Python 3",
   "language": "python",
   "name": "python3"
  },
  "language_info": {
   "codemirror_mode": {
    "name": "ipython",
    "version": 3
   },
   "file_extension": ".py",
   "mimetype": "text/x-python",
   "name": "python",
   "nbconvert_exporter": "python",
   "pygments_lexer": "ipython3",
   "version": "3.8.8"
  }
 },
 "nbformat": 4,
 "nbformat_minor": 5
}
