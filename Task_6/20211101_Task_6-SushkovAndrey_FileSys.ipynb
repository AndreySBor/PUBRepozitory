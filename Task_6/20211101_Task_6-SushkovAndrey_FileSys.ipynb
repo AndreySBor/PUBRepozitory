{
 "cells": [
  {
   "cell_type": "markdown",
   "id": "544e3740",
   "metadata": {},
   "source": [
    "# Домашнее задание к лекции Работа с файловой системой и модули"
   ]
  },
  {
   "cell_type": "markdown",
   "id": "93e2df62",
   "metadata": {},
   "source": [
    "## Домашнее задание\n",
    "\n",
    "Переведите содержимое файла purchase_log.txt в словарь purchases вида:\n",
    "{‘1840e0b9d4’: ‘Продукты’, …}\n",
    "\n",
    "Для каждого user_id в файле visit_log.csv определите третий столбец с категорией покупки (если покупка была, сам файл visit_log.csv изменять не надо). Запишите в файл funnel.csv визиты из файла visit_log.csv, в которых были покупки с указанием категории.\n",
    "Учтите условия на данные:\n",
    "содержимое purchase_log.txt помещается в оперативную память компьютера\n",
    "содержимое visit_log.csv - нет; используйте только построчную обработку этого файла"
   ]
  },
  {
   "cell_type": "code",
   "execution_count": 54,
   "id": "b130ee5c",
   "metadata": {},
   "outputs": [
    {
     "name": "stdout",
     "output_type": "stream",
     "text": [
      "Перевод данных из JSON завершён\n",
      "[{'user_id': '152ea9bb42', 'category': 'Бытовая техника'}, {'user_id': '06569907e6', 'category': 'Бытовая техника'}, {'user_id': '9f5bf9b73f', 'category': 'Строительство и ремонт'}]\n",
      "user_id source\n",
      "As Is: user_id ['category']\n"
     ]
    },
    {
     "ename": "AttributeError",
     "evalue": "'list' object has no attribute 'setdefault'",
     "output_type": "error",
     "traceback": [
      "\u001b[1;31m---------------------------------------------------------------------------\u001b[0m",
      "\u001b[1;31mAttributeError\u001b[0m                            Traceback (most recent call last)",
      "\u001b[1;32m<ipython-input-54-8f8e30a987d5>\u001b[0m in \u001b[0;36m<module>\u001b[1;34m\u001b[0m\n\u001b[0;32m     41\u001b[0m         \u001b[1;32mif\u001b[0m \u001b[0mbuy_user_id\u001b[0m \u001b[1;32min\u001b[0m \u001b[0mpurchases\u001b[0m\u001b[1;33m:\u001b[0m\u001b[1;33m\u001b[0m\u001b[1;33m\u001b[0m\u001b[0m\n\u001b[0;32m     42\u001b[0m             \u001b[0mprint\u001b[0m\u001b[1;33m(\u001b[0m\u001b[1;34m'As Is:'\u001b[0m\u001b[1;33m,\u001b[0m \u001b[0mbuy_user_id\u001b[0m\u001b[1;33m,\u001b[0m \u001b[0mpurchases\u001b[0m\u001b[1;33m[\u001b[0m\u001b[0mbuy_user_id\u001b[0m\u001b[1;33m]\u001b[0m\u001b[1;33m)\u001b[0m\u001b[1;33m\u001b[0m\u001b[1;33m\u001b[0m\u001b[0m\n\u001b[1;32m---> 43\u001b[1;33m             \u001b[0mpurchases\u001b[0m\u001b[1;33m[\u001b[0m\u001b[0mbuy_user_id\u001b[0m\u001b[1;33m]\u001b[0m\u001b[1;33m.\u001b[0m\u001b[0msetdefault\u001b[0m\u001b[1;33m(\u001b[0m\u001b[1;34m'source'\u001b[0m\u001b[1;33m,\u001b[0m \u001b[0mbuy\u001b[0m\u001b[1;33m[\u001b[0m\u001b[1;36m1\u001b[0m\u001b[1;33m]\u001b[0m\u001b[1;33m)\u001b[0m\u001b[1;33m\u001b[0m\u001b[1;33m\u001b[0m\u001b[0m\n\u001b[0m\u001b[0;32m     44\u001b[0m             \u001b[0mprint\u001b[0m\u001b[1;33m(\u001b[0m\u001b[1;34m'To Be:'\u001b[0m\u001b[1;33m,\u001b[0m \u001b[0mpurchases\u001b[0m\u001b[1;33m[\u001b[0m\u001b[0mbuy_user_id\u001b[0m\u001b[1;33m]\u001b[0m\u001b[1;33m)\u001b[0m\u001b[1;33m\u001b[0m\u001b[1;33m\u001b[0m\u001b[0m\n\u001b[0;32m     45\u001b[0m             \u001b[1;32mbreak\u001b[0m\u001b[1;33m\u001b[0m\u001b[1;33m\u001b[0m\u001b[0m\n",
      "\u001b[1;31mAttributeError\u001b[0m: 'list' object has no attribute 'setdefault'"
     ]
    }
   ],
   "source": [
    "import json                                          # Открытие библиотеки для использваония функции перевода данных из JSON\n",
    "\n",
    "i = 0\n",
    "content = {}                                         # Объявление словаря для записи всех данных из файла\n",
    "purchases_use = []                                   # Объявление списка для сохранения нормализованных данных из исх.файла\n",
    "purchases = {}\n",
    "\n",
    "f = open('purchase_log.txt', 'r', encoding='utf-8')  # Открытие файла с исх.данными, для чтения, с кодировкой\n",
    "content = f.readlines()                              # Сохранение всего содержимого файла с исх.данными в словарь\n",
    "f.close()                                            # Закрытие исх.файла\n",
    "\n",
    "for line in content:                                 # Цикл: построчное прочтение исх.данных в переменную\n",
    "    purchases_use.append(json.loads(line))           # Построчное добавление в новый список словарей с нормализованными данными\n",
    "\n",
    "print('Перевод данных из JSON завершён')\n",
    "print(purchases_use[97:100])                         # Контрольный вывод части списка с нормализованными данными: для понимания вида БД\n",
    "\n",
    "for el in purchases_use:                             # Цикл для приведения списка с данными к стандартному виду\n",
    "    if el['user_id'] in purchases:                   # Проверка условия наличия юзера с id\n",
    "#         key = el['user_id']\n",
    "#         purchases[key].setdefault(key, [])         НЕ работает! Обход: добавил сразу присвоение 'category' как список в else\n",
    "        purchases[el['user_id']].append(el['category']) # Добавление поисковой категории к имеющейся базе для нужного user-id\n",
    "    else:\n",
    "        purchases[el['user_id']] = [el['category']]  # Добавление новго user-id в базу, вместе с 1ым значением 'category'\n",
    "\n",
    "i = 0\n",
    "with open('funnel.csv', 'w', encoding='utf-8') as f2:\n",
    "    f = open('visit_log.csv', 'r', encoding='utf-8')\n",
    "    \n",
    "    for content_vis in f:\n",
    "        buy = []\n",
    "        buy_log = {}\n",
    "        buy_user_id = []\n",
    "        \n",
    "        buy = content_vis.strip().split(',')\n",
    "        \n",
    "        buy_user_id = buy[0]\n",
    "        buy_user_type = buy[1]\n",
    "        print(buy_user_id, buy_user_type)\n",
    "        \n",
    "        if buy_user_id in purchases:\n",
    "            print('As Is:', buy_user_id, purchases[buy_user_id])\n",
    "            purchases[buy_user_id].setdefault('source', buy[1])\n",
    "            print('To Be:', purchases[buy_user_id])\n",
    "            break\n",
    "    \n",
    "#         if buy[0] in purchases:\n",
    "#             buy_log['source'] = buy[1]\n",
    "# #             purchases[buy[0]].append(['source'] : buy[1])\n",
    "# #             purchases[buy[0]].setdefault('source', buy[1])\n",
    "#             print(purchases[buy[0]])\n",
    "            i += 1\n",
    "            if i == 15:\n",
    "                break\n",
    "\n",
    "#     for user_id in purchases:\n",
    "#         for \n",
    "#         content_vis = f.readline()\n",
    "\n",
    "f.close() \n",
    "print('Программа завершена')"
   ]
  }
 ],
 "metadata": {
  "kernelspec": {
   "display_name": "Python 3",
   "language": "python",
   "name": "python3"
  },
  "language_info": {
   "codemirror_mode": {
    "name": "ipython",
    "version": 3
   },
   "file_extension": ".py",
   "mimetype": "text/x-python",
   "name": "python",
   "nbconvert_exporter": "python",
   "pygments_lexer": "ipython3",
   "version": "3.8.8"
  }
 },
 "nbformat": 4,
 "nbformat_minor": 5
}
