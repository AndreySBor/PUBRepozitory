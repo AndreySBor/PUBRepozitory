{
 "cells": [
  {
   "cell_type": "markdown",
   "id": "0b110b93",
   "metadata": {},
   "source": [
    "## Домашнее задание к лекции «Исключения и обработка ошибок»"
   ]
  },
  {
   "cell_type": "markdown",
   "id": "acdf1fdf",
   "metadata": {},
   "source": [
    "### Задание 1\n",
    "Печатные газеты использовали свой формат дат для каждого выпуска. Для каждой газеты из списка напишите формат указанной даты для перевода в объект datetime:\n",
    "The Moscow Times - Wednesday, October 2, 2002\n",
    "The Guardian - Friday, 11.10.13\n",
    "Daily News - Thursday, 18 August 1977"
   ]
  },
  {
   "cell_type": "code",
   "execution_count": 13,
   "id": "b7474f43",
   "metadata": {},
   "outputs": [
    {
     "name": "stdout",
     "output_type": "stream",
     "text": [
      "The Moscow Times\n",
      "Wednesday, October 2, 2002\n",
      "2002-10-02 00:00:00\n",
      "\n",
      "The Guardian\n",
      "Friday, 11.10.13\n",
      "2013-10-11 00:00:00\n",
      "\n",
      "Daily News\n",
      "Thursday, 18 August 1977\n",
      "1977-08-18 00:00:00\n"
     ]
    }
   ],
   "source": [
    "# Программа для перевода разных форматов дат\n",
    "\n",
    "from datetime import datetime as dt\n",
    "\n",
    "TMT = 'Wednesday, October 2, 2002'\n",
    "TG = 'Friday, 11.10.13'\n",
    "DN = 'Thursday, 18 August 1977'\n",
    "\n",
    "print('The Moscow Times')\n",
    "print(TMT)\n",
    "date_TMT = dt.strptime(TMT, '%A, %B %d, %Y')\n",
    "print(date_TMT)\n",
    "\n",
    "print()\n",
    "print('The Guardian')\n",
    "print(TG)\n",
    "date_TG = dt.strptime(TG, '%A, %d.%m.%y')\n",
    "print(date_TG)\n",
    "\n",
    "print()\n",
    "print('Daily News')\n",
    "print(DN)\n",
    "date_DN = dt.strptime(DN, '%A, %d %B %Y')\n",
    "print(date_DN)"
   ]
  },
  {
   "cell_type": "markdown",
   "id": "7da91866",
   "metadata": {},
   "source": [
    "### Задание 2\n",
    "Дан поток дат в формате YYYY-MM-DD, в которых встречаются некорректные значения:\n",
    "stream = [‘2018-04-02’, ‘2018-02-29’, ‘2018-19-02’]\n",
    "\n",
    "Напишите функцию, которая проверяет эти даты на корректность. Т. е. для каждой даты возвращает True (дата корректна) или False (некорректная дата)."
   ]
  },
  {
   "cell_type": "code",
   "execution_count": 18,
   "id": "d47c59ca",
   "metadata": {},
   "outputs": [
    {
     "name": "stdout",
     "output_type": "stream",
     "text": [
      "Проверим поток дат на соответствие формату вида: YYYY-MM-DD\n",
      "2018-04-02 True\n",
      "Incorrected format:  2018-02-29\n",
      "Incorrected format:  2018-19-02\n",
      "=================================\n",
      "Программа завершена\n"
     ]
    }
   ],
   "source": [
    "# Программа для проверки формата потока дат на соответствие заданному формату YYYY-MM-DD\n",
    "\n",
    "from datetime import datetime as dt\n",
    "\n",
    "stream = ['2018-04-02', '2018-02-29', '2018-19-02']\n",
    "\n",
    "def verify(st_date):\n",
    "    \"\"\"\n",
    "    Верификация формата дат в потоке\n",
    "    \"\"\"\n",
    "    try:\n",
    "        ver_date = dt.strptime(st_date, '%Y-%m-%d')\n",
    "        print(dt.strftime(ver_date, '%Y-%m-%d'), True)\n",
    "    except:\n",
    "        print('Incorrected format: ', st_date)\n",
    "\n",
    "print('Проверим поток дат на соответствие формату вида: YYYY-MM-DD')\n",
    "for st_date in stream:\n",
    "    verify(st_date)\n",
    "\n",
    "print('=================================')\n",
    "print('Программа завершена')"
   ]
  },
  {
   "cell_type": "markdown",
   "id": "395de3aa",
   "metadata": {},
   "source": [
    "### Задание 3\n",
    "Напишите функцию date_range, которая возвращает список дат за период от start_date до end_date. Даты должны вводиться в формате YYYY-MM-DD. В случае неверного формата или при start_date > end_date должен возвращаться пустой список."
   ]
  },
  {
   "cell_type": "code",
   "execution_count": 22,
   "id": "c910f3c8",
   "metadata": {},
   "outputs": [
    {
     "name": "stdout",
     "output_type": "stream",
     "text": [
      "Составляем список дат:\n",
      "Введите стартовую дату в формате YYYY-MM-DD: 2021-11-01\n",
      "Введите конечную дату в формате YYYY-MM-DD: 2021-11-11\n",
      "['2021-11-01', '2021-11-02', '2021-11-03', '2021-11-04', '2021-11-05', '2021-11-06', '2021-11-07', '2021-11-08', '2021-11-09', '2021-11-10', '2021-11-11']\n",
      "Программа завершена\n"
     ]
    }
   ],
   "source": [
    "# Программа для возврата списка дат от стартовой до конечной, вводимых пользователем\n",
    "\n",
    "from datetime import datetime as dt                     # Импорт класса для работы с датаами из библиотеки\n",
    "from datetime import timedelta as td                    # Импорт класса для арифметических операций с датами и временем\n",
    "\n",
    "def date_range(start_date, end_date):                   # Объявление функции с приёмом двух переменных из др. функций\n",
    "    date_list = []                                      # Объявление пустого списка для сохранения диапахона дат (результата)\n",
    "    el = 0                                              # Объявление и обнуление счётчика дат в диапазоне\n",
    "    date_change = dt.strptime(start_date, '%Y-%m-%d')   # Объявление переменной в формате даты по маске ГГГГ-ММ-ДД\n",
    "    try:                                                # Проверка правильности формата введённых пользователем дат\n",
    "        sd = dt.strptime(start_date, '%Y-%m-%d')        # Перевод введённой строки исходной даты в формат дат, сохр. в переменную\n",
    "        ed = dt.strptime(end_date, '%Y-%m-%d')          # Перевод введённой строки с конечной датой в формат дат, сохр. в перем.\n",
    "    except:                                             # Действия при неверном формате введённых пользователем дат\n",
    "        print('Ошибка: Неверный формат ввода данных. Проверьте на соответствие вводимых дат маске ГГГГ-ММ-ДД')\n",
    "        print('Пример ввода даты: 2021-11-21')\n",
    "        print('Обратите внимание на разделитель тире и отсутствие пробелов')\n",
    "        print(start_date)\n",
    "        print(end_date)\n",
    "#         main_def()                                    # Задел для зацикливания программы до ввода корректных дат\n",
    "    \n",
    "    if start_date > end_date:                           # Проверка условия меньшей стартовой даты по срав.с конечной\n",
    "        print('Предупреждение: Стартовая дата позже конечной, возвращаю пустой список')\n",
    "    else:                                               # Основной алгоритм: составление списка дат из введённого диапазона\n",
    "        while date_change < ed:                         # Цикл до достижения конечной даты\n",
    "            date_change = sd + td(days=el)              # Расчёт очередной даты из диапазона: стартовая + кол-во пройденных\n",
    "            date_list.append(dt.strftime(date_change, '%Y-%m-%d'))  # Добавление к конечному списку новой даты, с переводом в строку для корректного вывода по маске\n",
    "            el += 1                                     # Переход по циклу к следующей дате\n",
    "    return date_list                                    # Возврат списка дат для вывода из функции в осн. программу\n",
    "\n",
    "def main_def():                                         # Основная функция: ввод данных и глобальные переменные\n",
    "    global start_date, end_date                         # Объявлени глобальных переменных программы\n",
    "    print('Составляем список дат:')\n",
    "    start_date = input('Введите стартовую дату в формате YYYY-MM-DD: ') # Ввод пользователем стартовой даты диапазона\n",
    "    end_date = input('Введите конечную дату в формате YYYY-MM-DD: ')    #  Ввод пользователем конечной даты диапазона\n",
    "    return start_date, end_date                         # Вывод из функции значений глобальных переменных крайних дат диапазона\n",
    "\n",
    "main_def()                                              # Старт тела программы: запуск функции для ввода данных\n",
    "print(date_range(start_date, end_date))                 # Вывод результата работы функции (принимает глоб переменные) составления списка\n",
    "\n",
    "# print(date_list)                                      # Задел для вывода результатов работы функции при их глобализаци\n",
    "print('Программа завершена')"
   ]
  },
  {
   "cell_type": "markdown",
   "id": "5685e57b",
   "metadata": {},
   "source": [
    "### Задание 4 (бонусное)\n",
    "Ваш коллега прислал код функции:\n",
    "\n",
    "DEFAULT_USER_COUNT = 3\n",
    "\n",
    "def delete_and_return_last_user(region, default_list=[‘A100’, ‘A101’, ‘A102’]):\n",
    "\"\"“\n",
    "Удаляет из списка default_list последнего пользователя\n",
    "и возвращает ID нового последнего пользователя.\n",
    "”\"\"\n",
    "element_to_delete = default_list[-1]\n",
    "default_list.remove(element_to_delete)\n",
    "\n",
    "1\n",
    "return default_list[DEFAULT_USER_COUNT-2]\n",
    "При однократном вызове этой функции все работает корректно:\n",
    "delete_and_return_last_user(1)\n",
    "‘A101’\n",
    "\n",
    "Однако, при повторном вызове получается ошибка IndexError: list index out of range.\n",
    "\n",
    "Задание:\n",
    "\n",
    "Что значит ошибка list index out of range?\n",
    "Почему при первом запуске функция работает корректно, а при втором - нет?"
   ]
  },
  {
   "cell_type": "code",
   "execution_count": null,
   "id": "ef3e5c37",
   "metadata": {},
   "outputs": [],
   "source": []
  }
 ],
 "metadata": {
  "kernelspec": {
   "display_name": "Python 3",
   "language": "python",
   "name": "python3"
  },
  "language_info": {
   "codemirror_mode": {
    "name": "ipython",
    "version": 3
   },
   "file_extension": ".py",
   "mimetype": "text/x-python",
   "name": "python",
   "nbconvert_exporter": "python",
   "pygments_lexer": "ipython3",
   "version": "3.8.8"
  }
 },
 "nbformat": 4,
 "nbformat_minor": 5
}
